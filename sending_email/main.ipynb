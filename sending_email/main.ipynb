{
 "cells": [
  {
   "cell_type": "code",
   "execution_count": 1,
   "metadata": {},
   "outputs": [
    {
     "data": {
      "text/plain": [
       "(221, b'2.0.0 closing connection c4sm506000pjs.0 - gsmtp')"
      ]
     },
     "execution_count": 1,
     "metadata": {},
     "output_type": "execute_result"
    }
   ],
   "source": [
    "import smtplib\n",
    "from email.mime.multipart import MIMEMultipart\n",
    "from email.mime.text import MIMEText\n",
    "\n",
    "from_addr = 'swapnomoy199916@gmail.com'\n",
    "to_addr = 'manjisthapaul999@gmail.com'\n",
    "\n",
    "msg = MIMEMultipart()\n",
    "msg['From'] = from_addr\n",
    "msg['To'] = to_addr\n",
    "msg['subject'] = 'Love is overflowing'\n",
    "body = 'Love you baby :3 Good night<3'\n",
    "msg.attach(MIMEText(body, 'plain'))\n",
    "email = 'swapnomoy199916@gmail.com'\n",
    "pwd = 'givemeboobietakemydick1610'\n",
    "mail = smtplib.SMTP('smtp.gmail.com', 587)\n",
    "mail.ehlo()\n",
    "mail.starttls()\n",
    "mail.login(email, pwd)\n",
    "text = msg.as_string()\n",
    "mail.sendmail(from_addr, to_addr, text)\n",
    "mail.quit()"
   ]
  },
  {
   "cell_type": "code",
   "execution_count": null,
   "metadata": {},
   "outputs": [],
   "source": []
  }
 ],
 "metadata": {
  "kernelspec": {
   "display_name": "Python 3",
   "language": "python",
   "name": "python3"
  },
  "language_info": {
   "codemirror_mode": {
    "name": "ipython",
    "version": 3
   },
   "file_extension": ".py",
   "mimetype": "text/x-python",
   "name": "python",
   "nbconvert_exporter": "python",
   "pygments_lexer": "ipython3",
   "version": "3.7.4"
  }
 },
 "nbformat": 4,
 "nbformat_minor": 2
}
