{
 "cells": [
  {
   "cell_type": "code",
   "execution_count": 1,
   "metadata": {},
   "outputs": [],
   "source": [
    "#importing packages\n",
    "\n",
    "import requests\n",
    "from bs4 import BeautifulSoup\n",
    "import pandas as pd"
   ]
  },
  {
   "cell_type": "code",
   "execution_count": 2,
   "metadata": {},
   "outputs": [],
   "source": [
    "# get the html content\n",
    "r = requests.get('https://www.century21.com/real-estate/rock-springs-wy/LCWYROCKSPRINGS/')\n",
    "c = r.content\n",
    "\n",
    "soup = BeautifulSoup(c, 'html.parser')"
   ]
  },
  {
   "cell_type": "code",
   "execution_count": 5,
   "metadata": {},
   "outputs": [],
   "source": [
    "# structure of the data\n",
    "\n",
    "real_estate_data = {}\n",
    "\n",
    "real_estate_data['Price'] = []\n",
    "real_estate_data['Beds'] = []\n",
    "real_estate_data['Baths'] = []\n",
    "real_estate_data['Half baths'] = []\n",
    "real_estate_data['Area'] = []\n",
    "real_estate_data['Address'] = []\n",
    "real_estate_data['City'] = []"
   ]
  },
  {
   "cell_type": "code",
   "execution_count": 7,
   "metadata": {},
   "outputs": [],
   "source": [
    "#scraping\n",
    "\n",
    "for element in all_primary_info:\n",
    "    try:\n",
    "        real_estate_data['Price'].append(element.find_all('a', {'class': 'listing-price'})[0].text.replace('\\n', ' ').replace(' ', ''))\n",
    "    except:\n",
    "        real_estate_data['Price'].append(None)\n",
    "        \n",
    "    try:\n",
    "        real_estate_data['Beds'].append(element.find_all('div', {'class': 'property-beds'})[0].text.replace('\\n', ' ').split(' ')[1])\n",
    "    except:\n",
    "        real_estate_data['Beds'].append(None)\n",
    "        \n",
    "    try:\n",
    "        real_estate_data['Baths'].append(element.find_all('div', {'class': 'property-baths'})[0].text.replace('\\n', ' ').split(' ')[1])\n",
    "    except:\n",
    "        real_estate_data['Baths'].append(None)\n",
    "        \n",
    "    try:\n",
    "        real_estate_data['Half baths'].append(element.find_all('div', {'class': 'property-half-baths'})[0].text.replace('\\n', ' ').split(' ')[1])\n",
    "    except:\n",
    "        real_estate_data['Half baths'].append(None)\n",
    "        \n",
    "    try:\n",
    "        real_estate_data['Area'].append(element.find_all('div', {'class': 'property-sqft'})[0].text.replace('\\n', ' ').split(' ')[1])\n",
    "    except:\n",
    "        real_estate_data['Area'].append(None)\n",
    "        \n",
    "    try:\n",
    "        real_estate_data['Address'].append(element.find_all('div', {'class': 'property-address'})[0].text.replace('\\n', '').strip())\n",
    "    except:\n",
    "        real_estate_data['Address'].append(None)\n",
    "        \n",
    "    try:\n",
    "        real_estate_data['City'].append(element.find_all('div', {'class': 'property-city'})[0].text.replace('\\n', '').strip())\n",
    "    except:\n",
    "        real_estate_data['City'].append(None)\n",
    "        \n",
    "    "
   ]
  },
  {
   "cell_type": "code",
   "execution_count": 8,
   "metadata": {},
   "outputs": [],
   "source": [
    "# creating dataframe\n",
    "\n",
    "df = pd.DataFrame(real_estate_data)"
   ]
  },
  {
   "cell_type": "code",
   "execution_count": 23,
   "metadata": {},
   "outputs": [],
   "source": [
    "#creating csv\n",
    "\n",
    "df.to_csv('real_estate_data.csv')"
   ]
  }
 ],
 "metadata": {
  "kernelspec": {
   "display_name": "Python 3",
   "language": "python",
   "name": "python3"
  },
  "language_info": {
   "codemirror_mode": {
    "name": "ipython",
    "version": 3
   },
   "file_extension": ".py",
   "mimetype": "text/x-python",
   "name": "python",
   "nbconvert_exporter": "python",
   "pygments_lexer": "ipython3",
   "version": "3.7.4"
  }
 },
 "nbformat": 4,
 "nbformat_minor": 2
}
