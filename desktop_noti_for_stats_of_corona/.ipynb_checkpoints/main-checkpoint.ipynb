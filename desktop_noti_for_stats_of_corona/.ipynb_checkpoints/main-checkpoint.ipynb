{
 "cells": [
  {
   "cell_type": "code",
   "execution_count": 15,
   "metadata": {},
   "outputs": [],
   "source": [
    "from plyer import notification\n",
    "import requests\n",
    "from bs4 import BeautifulSoup"
   ]
  },
  {
   "cell_type": "code",
   "execution_count": 41,
   "metadata": {},
   "outputs": [],
   "source": [
    "def notify_me(title, message):\n",
    "    notification.notify(title = title, message = message, app_icon = \"C:\\\\Users\\\\user\\\\Desktop\\\\python_projects\\\\desktop_noti_for_stats_of_corona\\\\corona.ico\", timeout = 25)\n",
    "\n",
    "def get_data(url):\n",
    "    r = requests.get(url)\n",
    "    return r.text"
   ]
  },
  {
   "cell_type": "code",
   "execution_count": 45,
   "metadata": {},
   "outputs": [],
   "source": [
    "if __name__ == \"__main__\":\n",
    "    my_data = get_data('https://www.mohfw.gov.in/')\n",
    "    #print(my_data)\n",
    "    my_data_string = \"\"\n",
    "    soup = BeautifulSoup(my_data, 'html.parser')\n",
    "    #print(soup.prettify())\n",
    "    for tr in soup.find_all('tbody')[1].find_all('tr'):\n",
    "        #print(tr.get_text())\n",
    "        my_data_string += tr.get_text()\n",
    "    my_data_string = my_data_string[1:]\n",
    "    item_list = my_data_string.split(\"\\n\\n\")\n",
    "    query = ['Kerala','Maharashtra','West Bengal']\n",
    "    for item in item_list[0:23]:\n",
    "        msg = \"\"\n",
    "        data_list = item.split(\"\\n\")\n",
    "        if data_list[1] in query:\n",
    "            msg += f\"State : {data_list[1]}\\nConfirmed cases : {int(data_list[2]) + int(data_list[3])}\\nDeath : {data_list[5]}\"\n",
    "            notify_me(\"Chayan, Stay safe!\", msg)"
   ]
  },
  {
   "cell_type": "code",
   "execution_count": 9,
   "metadata": {},
   "outputs": [
    {
     "name": "stdout",
     "output_type": "stream",
     "text": [
      "['1', 'Andhra Pradesh', '5', '0', '0', '0']\n",
      "['2', 'Bihar', '2', '0', '0', '1']\n",
      "['3', 'Chhattisgarh', '1', '0', '0', '0']\n",
      "['4', 'Delhi', '28', '1', '5', '1']\n",
      "['5', 'Gujarat', '18', '0', '0', '1']\n",
      "['6', 'Haryana', '7', '14', '0', '0']\n",
      "['7', 'Himachal Pradesh', '2', '0', '0', '0']\n",
      "['8', 'Karnataka', '26', '0', '2', '1']\n",
      "['9', 'Kerala', '60', '7', '3', '0']\n",
      "['10', 'Madhya Pradesh', '6', '0', '0', '0']\n",
      "['11', 'Maharashtra', '64', '3', '0', '2']\n",
      "['12', 'Odisha', '2', '0', '0', '0']\n",
      "['13', 'Puducherry', '1', '0', '0', '0']\n",
      "['14', 'Punjab', '21', '0', '0', '1']\n",
      "['15', 'Rajasthan', '25', '2', '3', '0']\n",
      "['16', 'Tamil Nadu', '7', '2', '1', '0']\n",
      "['17', 'Telengana', '15', '11', '1', '0']\n",
      "['18', 'Chandigarh', '5', '0', '0', '0']\n",
      "['19', 'Jammu and Kashmir', '4', '0', '0', '0']\n",
      "['20', 'Ladakh', '13', '0', '0', '0']\n",
      "['21', 'Uttar Pradesh', '27', '1', '9', '0']\n",
      "['22', 'Uttarakhand', '3', '0', '0', '0']\n",
      "['23', 'West Bengal', '7', '0', '0', '0']\n",
      "['Total number of confirmed cases in India', '349 *']\n"
     ]
    }
   ],
   "source": [
    "for item in item_list[0:24]:\n",
    "    print(item.split(\"\\n\"))"
   ]
  },
  {
   "cell_type": "code",
   "execution_count": 13,
   "metadata": {},
   "outputs": [
    {
     "data": {
      "text/plain": [
       "'Name of the state : Delhi\\nConfirmed cases (Indian National) : 28\\n Confirmed cases (Foreign National) : 1\\nCured/Discharged/Migrated : 5\\nDeath : 1\\n Name of the state : Karnataka\\nConfirmed cases (Indian National) : 33\\n Confirmed cases (Foreign National) : 0\\nCured/Discharged/Migrated : 2\\nDeath : 1\\n Name of the state : Kerala\\nConfirmed cases (Indian National) : 60\\n Confirmed cases (Foreign National) : 7\\nCured/Discharged/Migrated : 3\\nDeath : 0\\n Name of the state : Maharashtra\\nConfirmed cases (Indian National) : 71\\n Confirmed cases (Foreign National) : 3\\nCured/Discharged/Migrated : 0\\nDeath : 2\\n Name of the state : West Bengal\\nConfirmed cases (Indian National) : 7\\n Confirmed cases (Foreign National) : 0\\nCured/Discharged/Migrated : 0\\nDeath : 0\\n '"
      ]
     },
     "execution_count": 13,
     "metadata": {},
     "output_type": "execute_result"
    }
   ],
   "source": [
    "msg"
   ]
  },
  {
   "cell_type": "code",
   "execution_count": null,
   "metadata": {},
   "outputs": [],
   "source": []
  }
 ],
 "metadata": {
  "kernelspec": {
   "display_name": "Python 3",
   "language": "python",
   "name": "python3"
  },
  "language_info": {
   "codemirror_mode": {
    "name": "ipython",
    "version": 3
   },
   "file_extension": ".py",
   "mimetype": "text/x-python",
   "name": "python",
   "nbconvert_exporter": "python",
   "pygments_lexer": "ipython3",
   "version": "3.7.4"
  }
 },
 "nbformat": 4,
 "nbformat_minor": 2
}
